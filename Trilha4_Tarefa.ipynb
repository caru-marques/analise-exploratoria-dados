{
  "nbformat": 4,
  "nbformat_minor": 0,
  "metadata": {
    "colab": {
      "name": "Trilha4-Tarefa.ipynb",
      "provenance": []
    },
    "kernelspec": {
      "name": "python3",
      "display_name": "Python 3"
    },
    "language_info": {
      "name": "python"
    }
  },
  "cells": [
    {
      "cell_type": "markdown",
      "metadata": {
        "id": "KI3nYoopMmXM"
      },
      "source": [
        "##**Tarefa da Trilha 4 - Paradigmas de Linguagem de Programação em Ciências de Dados**"
      ]
    },
    {
      "cell_type": "markdown",
      "metadata": {
        "id": "xMtruEaIM2JV"
      },
      "source": [
        "Para esta tarefa, foram escolhidos os bancos de dados que detalham a mortalidade infantil e a pobreza em diferentes localizações e em diferentes anos. Estes dados foram extraídos do site https://www.gapminder.org/\n",
        "\n",
        "Link Github - "
      ]
    },
    {
      "cell_type": "code",
      "metadata": {
        "colab": {
          "base_uri": "https://localhost:8080/",
          "height": 206
        },
        "id": "mHCmRMwJp6wV",
        "outputId": "2b2baf7a-8f65-47b5-cf44-94f3bf427710"
      },
      "source": [
        "import pandas as pd\n",
        "\n",
        "child = pd.read_csv('https://raw.githubusercontent.com/open-numbers/ddf--gapminder--systema_globalis/master/countries-etc-datapoints/ddf--datapoints--number_of_child_deaths--by--geo--time.csv')\n",
        "\n",
        "child.head()\n"
      ],
      "execution_count": 207,
      "outputs": [
        {
          "output_type": "execute_result",
          "data": {
            "text/html": [
              "<div>\n",
              "<style scoped>\n",
              "    .dataframe tbody tr th:only-of-type {\n",
              "        vertical-align: middle;\n",
              "    }\n",
              "\n",
              "    .dataframe tbody tr th {\n",
              "        vertical-align: top;\n",
              "    }\n",
              "\n",
              "    .dataframe thead th {\n",
              "        text-align: right;\n",
              "    }\n",
              "</style>\n",
              "<table border=\"1\" class=\"dataframe\">\n",
              "  <thead>\n",
              "    <tr style=\"text-align: right;\">\n",
              "      <th></th>\n",
              "      <th>geo</th>\n",
              "      <th>time</th>\n",
              "      <th>number_of_child_deaths</th>\n",
              "    </tr>\n",
              "  </thead>\n",
              "  <tbody>\n",
              "    <tr>\n",
              "      <th>0</th>\n",
              "      <td>abw</td>\n",
              "      <td>1980</td>\n",
              "      <td>36</td>\n",
              "    </tr>\n",
              "    <tr>\n",
              "      <th>1</th>\n",
              "      <td>abw</td>\n",
              "      <td>1981</td>\n",
              "      <td>35</td>\n",
              "    </tr>\n",
              "    <tr>\n",
              "      <th>2</th>\n",
              "      <td>abw</td>\n",
              "      <td>1982</td>\n",
              "      <td>34</td>\n",
              "    </tr>\n",
              "    <tr>\n",
              "      <th>3</th>\n",
              "      <td>abw</td>\n",
              "      <td>1983</td>\n",
              "      <td>33</td>\n",
              "    </tr>\n",
              "    <tr>\n",
              "      <th>4</th>\n",
              "      <td>abw</td>\n",
              "      <td>1984</td>\n",
              "      <td>32</td>\n",
              "    </tr>\n",
              "  </tbody>\n",
              "</table>\n",
              "</div>"
            ],
            "text/plain": [
              "   geo  time  number_of_child_deaths\n",
              "0  abw  1980                      36\n",
              "1  abw  1981                      35\n",
              "2  abw  1982                      34\n",
              "3  abw  1983                      33\n",
              "4  abw  1984                      32"
            ]
          },
          "metadata": {},
          "execution_count": 207
        }
      ]
    },
    {
      "cell_type": "code",
      "metadata": {
        "colab": {
          "base_uri": "https://localhost:8080/",
          "height": 423
        },
        "id": "ERwqTvgToDJj",
        "outputId": "ad9bbdaa-2f88-409d-d286-7c97660e6feb"
      },
      "source": [
        "child_BR = child[ child.geo == 'bra' ]\n",
        "child_BR"
      ],
      "execution_count": 208,
      "outputs": [
        {
          "output_type": "execute_result",
          "data": {
            "text/html": [
              "<div>\n",
              "<style scoped>\n",
              "    .dataframe tbody tr th:only-of-type {\n",
              "        vertical-align: middle;\n",
              "    }\n",
              "\n",
              "    .dataframe tbody tr th {\n",
              "        vertical-align: top;\n",
              "    }\n",
              "\n",
              "    .dataframe thead th {\n",
              "        text-align: right;\n",
              "    }\n",
              "</style>\n",
              "<table border=\"1\" class=\"dataframe\">\n",
              "  <thead>\n",
              "    <tr style=\"text-align: right;\">\n",
              "      <th></th>\n",
              "      <th>geo</th>\n",
              "      <th>time</th>\n",
              "      <th>number_of_child_deaths</th>\n",
              "    </tr>\n",
              "  </thead>\n",
              "  <tbody>\n",
              "    <tr>\n",
              "      <th>4814</th>\n",
              "      <td>bra</td>\n",
              "      <td>1800</td>\n",
              "      <td>66000</td>\n",
              "    </tr>\n",
              "    <tr>\n",
              "      <th>4815</th>\n",
              "      <td>bra</td>\n",
              "      <td>1801</td>\n",
              "      <td>66710</td>\n",
              "    </tr>\n",
              "    <tr>\n",
              "      <th>4816</th>\n",
              "      <td>bra</td>\n",
              "      <td>1802</td>\n",
              "      <td>67430</td>\n",
              "    </tr>\n",
              "    <tr>\n",
              "      <th>4817</th>\n",
              "      <td>bra</td>\n",
              "      <td>1803</td>\n",
              "      <td>68150</td>\n",
              "    </tr>\n",
              "    <tr>\n",
              "      <th>4818</th>\n",
              "      <td>bra</td>\n",
              "      <td>1804</td>\n",
              "      <td>68880</td>\n",
              "    </tr>\n",
              "    <tr>\n",
              "      <th>...</th>\n",
              "      <td>...</td>\n",
              "      <td>...</td>\n",
              "      <td>...</td>\n",
              "    </tr>\n",
              "    <tr>\n",
              "      <th>5025</th>\n",
              "      <td>bra</td>\n",
              "      <td>2011</td>\n",
              "      <td>46880</td>\n",
              "    </tr>\n",
              "    <tr>\n",
              "      <th>5026</th>\n",
              "      <td>bra</td>\n",
              "      <td>2012</td>\n",
              "      <td>47450</td>\n",
              "    </tr>\n",
              "    <tr>\n",
              "      <th>5027</th>\n",
              "      <td>bra</td>\n",
              "      <td>2013</td>\n",
              "      <td>49090</td>\n",
              "    </tr>\n",
              "    <tr>\n",
              "      <th>5028</th>\n",
              "      <td>bra</td>\n",
              "      <td>2014</td>\n",
              "      <td>51120</td>\n",
              "    </tr>\n",
              "    <tr>\n",
              "      <th>5029</th>\n",
              "      <td>bra</td>\n",
              "      <td>2015</td>\n",
              "      <td>52420</td>\n",
              "    </tr>\n",
              "  </tbody>\n",
              "</table>\n",
              "<p>216 rows × 3 columns</p>\n",
              "</div>"
            ],
            "text/plain": [
              "      geo  time  number_of_child_deaths\n",
              "4814  bra  1800                   66000\n",
              "4815  bra  1801                   66710\n",
              "4816  bra  1802                   67430\n",
              "4817  bra  1803                   68150\n",
              "4818  bra  1804                   68880\n",
              "...   ...   ...                     ...\n",
              "5025  bra  2011                   46880\n",
              "5026  bra  2012                   47450\n",
              "5027  bra  2013                   49090\n",
              "5028  bra  2014                   51120\n",
              "5029  bra  2015                   52420\n",
              "\n",
              "[216 rows x 3 columns]"
            ]
          },
          "metadata": {},
          "execution_count": 208
        }
      ]
    },
    {
      "cell_type": "code",
      "metadata": {
        "colab": {
          "base_uri": "https://localhost:8080/",
          "height": 206
        },
        "id": "XOsXc2QCo_hR",
        "outputId": "6dd16dc0-b48f-4cc6-c2d1-b75a588c09ae"
      },
      "source": [
        "child_BR = child_BR.rename(columns={'geo':'country','time':'year', 'number_of_child_deaths': 'death'})\n",
        "child_BR.head()"
      ],
      "execution_count": 209,
      "outputs": [
        {
          "output_type": "execute_result",
          "data": {
            "text/html": [
              "<div>\n",
              "<style scoped>\n",
              "    .dataframe tbody tr th:only-of-type {\n",
              "        vertical-align: middle;\n",
              "    }\n",
              "\n",
              "    .dataframe tbody tr th {\n",
              "        vertical-align: top;\n",
              "    }\n",
              "\n",
              "    .dataframe thead th {\n",
              "        text-align: right;\n",
              "    }\n",
              "</style>\n",
              "<table border=\"1\" class=\"dataframe\">\n",
              "  <thead>\n",
              "    <tr style=\"text-align: right;\">\n",
              "      <th></th>\n",
              "      <th>country</th>\n",
              "      <th>year</th>\n",
              "      <th>death</th>\n",
              "    </tr>\n",
              "  </thead>\n",
              "  <tbody>\n",
              "    <tr>\n",
              "      <th>4814</th>\n",
              "      <td>bra</td>\n",
              "      <td>1800</td>\n",
              "      <td>66000</td>\n",
              "    </tr>\n",
              "    <tr>\n",
              "      <th>4815</th>\n",
              "      <td>bra</td>\n",
              "      <td>1801</td>\n",
              "      <td>66710</td>\n",
              "    </tr>\n",
              "    <tr>\n",
              "      <th>4816</th>\n",
              "      <td>bra</td>\n",
              "      <td>1802</td>\n",
              "      <td>67430</td>\n",
              "    </tr>\n",
              "    <tr>\n",
              "      <th>4817</th>\n",
              "      <td>bra</td>\n",
              "      <td>1803</td>\n",
              "      <td>68150</td>\n",
              "    </tr>\n",
              "    <tr>\n",
              "      <th>4818</th>\n",
              "      <td>bra</td>\n",
              "      <td>1804</td>\n",
              "      <td>68880</td>\n",
              "    </tr>\n",
              "  </tbody>\n",
              "</table>\n",
              "</div>"
            ],
            "text/plain": [
              "     country  year  death\n",
              "4814     bra  1800  66000\n",
              "4815     bra  1801  66710\n",
              "4816     bra  1802  67430\n",
              "4817     bra  1803  68150\n",
              "4818     bra  1804  68880"
            ]
          },
          "metadata": {},
          "execution_count": 209
        }
      ]
    },
    {
      "cell_type": "code",
      "metadata": {
        "colab": {
          "base_uri": "https://localhost:8080/",
          "height": 206
        },
        "id": "Bb-cocDT1yXZ",
        "outputId": "4fd15e3b-59d9-4b08-cf5f-a8359de1e3b1"
      },
      "source": [
        "child_USA = child[ child.geo == 'usa' ]\n",
        "child_USA = child_USA.rename(columns={'geo':'country','time':'year', 'number_of_child_deaths': 'death'})\n",
        "child_USA.head()"
      ],
      "execution_count": 210,
      "outputs": [
        {
          "output_type": "execute_result",
          "data": {
            "text/html": [
              "<div>\n",
              "<style scoped>\n",
              "    .dataframe tbody tr th:only-of-type {\n",
              "        vertical-align: middle;\n",
              "    }\n",
              "\n",
              "    .dataframe tbody tr th {\n",
              "        vertical-align: top;\n",
              "    }\n",
              "\n",
              "    .dataframe thead th {\n",
              "        text-align: right;\n",
              "    }\n",
              "</style>\n",
              "<table border=\"1\" class=\"dataframe\">\n",
              "  <thead>\n",
              "    <tr style=\"text-align: right;\">\n",
              "      <th></th>\n",
              "      <th>country</th>\n",
              "      <th>year</th>\n",
              "      <th>death</th>\n",
              "    </tr>\n",
              "  </thead>\n",
              "  <tbody>\n",
              "    <tr>\n",
              "      <th>38194</th>\n",
              "      <td>usa</td>\n",
              "      <td>1800</td>\n",
              "      <td>152200</td>\n",
              "    </tr>\n",
              "    <tr>\n",
              "      <th>38195</th>\n",
              "      <td>usa</td>\n",
              "      <td>1801</td>\n",
              "      <td>154600</td>\n",
              "    </tr>\n",
              "    <tr>\n",
              "      <th>38196</th>\n",
              "      <td>usa</td>\n",
              "      <td>1802</td>\n",
              "      <td>157100</td>\n",
              "    </tr>\n",
              "    <tr>\n",
              "      <th>38197</th>\n",
              "      <td>usa</td>\n",
              "      <td>1803</td>\n",
              "      <td>159500</td>\n",
              "    </tr>\n",
              "    <tr>\n",
              "      <th>38198</th>\n",
              "      <td>usa</td>\n",
              "      <td>1804</td>\n",
              "      <td>162100</td>\n",
              "    </tr>\n",
              "  </tbody>\n",
              "</table>\n",
              "</div>"
            ],
            "text/plain": [
              "      country  year   death\n",
              "38194     usa  1800  152200\n",
              "38195     usa  1801  154600\n",
              "38196     usa  1802  157100\n",
              "38197     usa  1803  159500\n",
              "38198     usa  1804  162100"
            ]
          },
          "metadata": {},
          "execution_count": 210
        }
      ]
    },
    {
      "cell_type": "code",
      "metadata": {
        "colab": {
          "base_uri": "https://localhost:8080/",
          "height": 206
        },
        "id": "UROF7IBD7a9r",
        "outputId": "9a2c7292-08b4-4cc0-c845-d653f0231975"
      },
      "source": [
        "child_IND = child[ child.geo == 'ind' ]\n",
        "child_IND = child_IND.rename(columns={'geo':'country','time':'year', 'number_of_child_deaths': 'death'})\n",
        "child_IND.head()"
      ],
      "execution_count": 211,
      "outputs": [
        {
          "output_type": "execute_result",
          "data": {
            "text/html": [
              "<div>\n",
              "<style scoped>\n",
              "    .dataframe tbody tr th:only-of-type {\n",
              "        vertical-align: middle;\n",
              "    }\n",
              "\n",
              "    .dataframe tbody tr th {\n",
              "        vertical-align: top;\n",
              "    }\n",
              "\n",
              "    .dataframe thead th {\n",
              "        text-align: right;\n",
              "    }\n",
              "</style>\n",
              "<table border=\"1\" class=\"dataframe\">\n",
              "  <thead>\n",
              "    <tr style=\"text-align: right;\">\n",
              "      <th></th>\n",
              "      <th>country</th>\n",
              "      <th>year</th>\n",
              "      <th>death</th>\n",
              "    </tr>\n",
              "  </thead>\n",
              "  <tbody>\n",
              "    <tr>\n",
              "      <th>16599</th>\n",
              "      <td>ind</td>\n",
              "      <td>1800</td>\n",
              "      <td>3561000</td>\n",
              "    </tr>\n",
              "    <tr>\n",
              "      <th>16600</th>\n",
              "      <td>ind</td>\n",
              "      <td>1801</td>\n",
              "      <td>3568000</td>\n",
              "    </tr>\n",
              "    <tr>\n",
              "      <th>16601</th>\n",
              "      <td>ind</td>\n",
              "      <td>1802</td>\n",
              "      <td>3575000</td>\n",
              "    </tr>\n",
              "    <tr>\n",
              "      <th>16602</th>\n",
              "      <td>ind</td>\n",
              "      <td>1803</td>\n",
              "      <td>3582000</td>\n",
              "    </tr>\n",
              "    <tr>\n",
              "      <th>16603</th>\n",
              "      <td>ind</td>\n",
              "      <td>1804</td>\n",
              "      <td>3590000</td>\n",
              "    </tr>\n",
              "  </tbody>\n",
              "</table>\n",
              "</div>"
            ],
            "text/plain": [
              "      country  year    death\n",
              "16599     ind  1800  3561000\n",
              "16600     ind  1801  3568000\n",
              "16601     ind  1802  3575000\n",
              "16602     ind  1803  3582000\n",
              "16603     ind  1804  3590000"
            ]
          },
          "metadata": {},
          "execution_count": 211
        }
      ]
    },
    {
      "cell_type": "code",
      "metadata": {
        "colab": {
          "base_uri": "https://localhost:8080/",
          "height": 206
        },
        "id": "coaG8vEzsQhI",
        "outputId": "6507c386-6999-4a40-8a4f-dd9117f22440"
      },
      "source": [
        "poverty = pd.read_csv('https://raw.githubusercontent.com/open-numbers/ddf--gapminder--systema_globalis/master/countries-etc-datapoints/ddf--datapoints--number_of_people_in_poverty--by--geo--time.csv')\n",
        "poverty.head()"
      ],
      "execution_count": 212,
      "outputs": [
        {
          "output_type": "execute_result",
          "data": {
            "text/html": [
              "<div>\n",
              "<style scoped>\n",
              "    .dataframe tbody tr th:only-of-type {\n",
              "        vertical-align: middle;\n",
              "    }\n",
              "\n",
              "    .dataframe tbody tr th {\n",
              "        vertical-align: top;\n",
              "    }\n",
              "\n",
              "    .dataframe thead th {\n",
              "        text-align: right;\n",
              "    }\n",
              "</style>\n",
              "<table border=\"1\" class=\"dataframe\">\n",
              "  <thead>\n",
              "    <tr style=\"text-align: right;\">\n",
              "      <th></th>\n",
              "      <th>geo</th>\n",
              "      <th>time</th>\n",
              "      <th>number_of_people_in_poverty</th>\n",
              "    </tr>\n",
              "  </thead>\n",
              "  <tbody>\n",
              "    <tr>\n",
              "      <th>0</th>\n",
              "      <td>ago</td>\n",
              "      <td>2000</td>\n",
              "      <td>7.56300</td>\n",
              "    </tr>\n",
              "    <tr>\n",
              "      <th>1</th>\n",
              "      <td>ago</td>\n",
              "      <td>2009</td>\n",
              "      <td>8.20800</td>\n",
              "    </tr>\n",
              "    <tr>\n",
              "      <th>2</th>\n",
              "      <td>alb</td>\n",
              "      <td>1996</td>\n",
              "      <td>0.00634</td>\n",
              "    </tr>\n",
              "    <tr>\n",
              "      <th>3</th>\n",
              "      <td>alb</td>\n",
              "      <td>2002</td>\n",
              "      <td>0.02228</td>\n",
              "    </tr>\n",
              "    <tr>\n",
              "      <th>4</th>\n",
              "      <td>alb</td>\n",
              "      <td>2004</td>\n",
              "      <td>0.01598</td>\n",
              "    </tr>\n",
              "  </tbody>\n",
              "</table>\n",
              "</div>"
            ],
            "text/plain": [
              "   geo  time  number_of_people_in_poverty\n",
              "0  ago  2000                      7.56300\n",
              "1  ago  2009                      8.20800\n",
              "2  alb  1996                      0.00634\n",
              "3  alb  2002                      0.02228\n",
              "4  alb  2004                      0.01598"
            ]
          },
          "metadata": {},
          "execution_count": 212
        }
      ]
    },
    {
      "cell_type": "code",
      "metadata": {
        "colab": {
          "base_uri": "https://localhost:8080/",
          "height": 927
        },
        "id": "ZoYb5fb4swcM",
        "outputId": "626034ac-26e8-4339-a563-5504c4253e2d"
      },
      "source": [
        "poverty_BR = poverty[ poverty.geo == 'bra' ]\n",
        "poverty_BR"
      ],
      "execution_count": 213,
      "outputs": [
        {
          "output_type": "execute_result",
          "data": {
            "text/html": [
              "<div>\n",
              "<style scoped>\n",
              "    .dataframe tbody tr th:only-of-type {\n",
              "        vertical-align: middle;\n",
              "    }\n",
              "\n",
              "    .dataframe tbody tr th {\n",
              "        vertical-align: top;\n",
              "    }\n",
              "\n",
              "    .dataframe thead th {\n",
              "        text-align: right;\n",
              "    }\n",
              "</style>\n",
              "<table border=\"1\" class=\"dataframe\">\n",
              "  <thead>\n",
              "    <tr style=\"text-align: right;\">\n",
              "      <th></th>\n",
              "      <th>geo</th>\n",
              "      <th>time</th>\n",
              "      <th>number_of_people_in_poverty</th>\n",
              "    </tr>\n",
              "  </thead>\n",
              "  <tbody>\n",
              "    <tr>\n",
              "      <th>140</th>\n",
              "      <td>bra</td>\n",
              "      <td>1981</td>\n",
              "      <td>17.000</td>\n",
              "    </tr>\n",
              "    <tr>\n",
              "      <th>141</th>\n",
              "      <td>bra</td>\n",
              "      <td>1982</td>\n",
              "      <td>17.420</td>\n",
              "    </tr>\n",
              "    <tr>\n",
              "      <th>142</th>\n",
              "      <td>bra</td>\n",
              "      <td>1983</td>\n",
              "      <td>21.720</td>\n",
              "    </tr>\n",
              "    <tr>\n",
              "      <th>143</th>\n",
              "      <td>bra</td>\n",
              "      <td>1984</td>\n",
              "      <td>20.670</td>\n",
              "    </tr>\n",
              "    <tr>\n",
              "      <th>144</th>\n",
              "      <td>bra</td>\n",
              "      <td>1985</td>\n",
              "      <td>18.420</td>\n",
              "    </tr>\n",
              "    <tr>\n",
              "      <th>145</th>\n",
              "      <td>bra</td>\n",
              "      <td>1986</td>\n",
              "      <td>13.490</td>\n",
              "    </tr>\n",
              "    <tr>\n",
              "      <th>146</th>\n",
              "      <td>bra</td>\n",
              "      <td>1987</td>\n",
              "      <td>19.340</td>\n",
              "    </tr>\n",
              "    <tr>\n",
              "      <th>147</th>\n",
              "      <td>bra</td>\n",
              "      <td>1988</td>\n",
              "      <td>21.210</td>\n",
              "    </tr>\n",
              "    <tr>\n",
              "      <th>148</th>\n",
              "      <td>bra</td>\n",
              "      <td>1989</td>\n",
              "      <td>20.160</td>\n",
              "    </tr>\n",
              "    <tr>\n",
              "      <th>149</th>\n",
              "      <td>bra</td>\n",
              "      <td>1990</td>\n",
              "      <td>24.290</td>\n",
              "    </tr>\n",
              "    <tr>\n",
              "      <th>150</th>\n",
              "      <td>bra</td>\n",
              "      <td>1992</td>\n",
              "      <td>25.820</td>\n",
              "    </tr>\n",
              "    <tr>\n",
              "      <th>151</th>\n",
              "      <td>bra</td>\n",
              "      <td>1993</td>\n",
              "      <td>24.920</td>\n",
              "    </tr>\n",
              "    <tr>\n",
              "      <th>152</th>\n",
              "      <td>bra</td>\n",
              "      <td>1995</td>\n",
              "      <td>16.080</td>\n",
              "    </tr>\n",
              "    <tr>\n",
              "      <th>153</th>\n",
              "      <td>bra</td>\n",
              "      <td>1996</td>\n",
              "      <td>18.430</td>\n",
              "    </tr>\n",
              "    <tr>\n",
              "      <th>154</th>\n",
              "      <td>bra</td>\n",
              "      <td>1997</td>\n",
              "      <td>18.190</td>\n",
              "    </tr>\n",
              "    <tr>\n",
              "      <th>155</th>\n",
              "      <td>bra</td>\n",
              "      <td>1998</td>\n",
              "      <td>16.240</td>\n",
              "    </tr>\n",
              "    <tr>\n",
              "      <th>156</th>\n",
              "      <td>bra</td>\n",
              "      <td>1999</td>\n",
              "      <td>16.980</td>\n",
              "    </tr>\n",
              "    <tr>\n",
              "      <th>157</th>\n",
              "      <td>bra</td>\n",
              "      <td>2001</td>\n",
              "      <td>18.050</td>\n",
              "    </tr>\n",
              "    <tr>\n",
              "      <th>158</th>\n",
              "      <td>bra</td>\n",
              "      <td>2002</td>\n",
              "      <td>15.910</td>\n",
              "    </tr>\n",
              "    <tr>\n",
              "      <th>159</th>\n",
              "      <td>bra</td>\n",
              "      <td>2003</td>\n",
              "      <td>17.480</td>\n",
              "    </tr>\n",
              "    <tr>\n",
              "      <th>160</th>\n",
              "      <td>bra</td>\n",
              "      <td>2004</td>\n",
              "      <td>14.980</td>\n",
              "    </tr>\n",
              "    <tr>\n",
              "      <th>161</th>\n",
              "      <td>bra</td>\n",
              "      <td>2005</td>\n",
              "      <td>13.370</td>\n",
              "    </tr>\n",
              "    <tr>\n",
              "      <th>162</th>\n",
              "      <td>bra</td>\n",
              "      <td>2006</td>\n",
              "      <td>11.160</td>\n",
              "    </tr>\n",
              "    <tr>\n",
              "      <th>163</th>\n",
              "      <td>bra</td>\n",
              "      <td>2007</td>\n",
              "      <td>11.100</td>\n",
              "    </tr>\n",
              "    <tr>\n",
              "      <th>164</th>\n",
              "      <td>bra</td>\n",
              "      <td>2008</td>\n",
              "      <td>9.339</td>\n",
              "    </tr>\n",
              "    <tr>\n",
              "      <th>165</th>\n",
              "      <td>bra</td>\n",
              "      <td>2009</td>\n",
              "      <td>9.133</td>\n",
              "    </tr>\n",
              "    <tr>\n",
              "      <th>166</th>\n",
              "      <td>bra</td>\n",
              "      <td>2011</td>\n",
              "      <td>8.921</td>\n",
              "    </tr>\n",
              "    <tr>\n",
              "      <th>167</th>\n",
              "      <td>bra</td>\n",
              "      <td>2012</td>\n",
              "      <td>7.450</td>\n",
              "    </tr>\n",
              "  </tbody>\n",
              "</table>\n",
              "</div>"
            ],
            "text/plain": [
              "     geo  time  number_of_people_in_poverty\n",
              "140  bra  1981                       17.000\n",
              "141  bra  1982                       17.420\n",
              "142  bra  1983                       21.720\n",
              "143  bra  1984                       20.670\n",
              "144  bra  1985                       18.420\n",
              "145  bra  1986                       13.490\n",
              "146  bra  1987                       19.340\n",
              "147  bra  1988                       21.210\n",
              "148  bra  1989                       20.160\n",
              "149  bra  1990                       24.290\n",
              "150  bra  1992                       25.820\n",
              "151  bra  1993                       24.920\n",
              "152  bra  1995                       16.080\n",
              "153  bra  1996                       18.430\n",
              "154  bra  1997                       18.190\n",
              "155  bra  1998                       16.240\n",
              "156  bra  1999                       16.980\n",
              "157  bra  2001                       18.050\n",
              "158  bra  2002                       15.910\n",
              "159  bra  2003                       17.480\n",
              "160  bra  2004                       14.980\n",
              "161  bra  2005                       13.370\n",
              "162  bra  2006                       11.160\n",
              "163  bra  2007                       11.100\n",
              "164  bra  2008                        9.339\n",
              "165  bra  2009                        9.133\n",
              "166  bra  2011                        8.921\n",
              "167  bra  2012                        7.450"
            ]
          },
          "metadata": {},
          "execution_count": 213
        }
      ]
    },
    {
      "cell_type": "code",
      "metadata": {
        "colab": {
          "base_uri": "https://localhost:8080/",
          "height": 206
        },
        "id": "Hg7Ux3lts97E",
        "outputId": "9995ae13-c529-447f-a727-d7ffd5c6f3b1"
      },
      "source": [
        "poverty_BR = poverty_BR.rename(columns={'geo':'country','time':'year', 'number_of_people_in_poverty': 'poverty'})\n",
        "poverty_BR.head()"
      ],
      "execution_count": 214,
      "outputs": [
        {
          "output_type": "execute_result",
          "data": {
            "text/html": [
              "<div>\n",
              "<style scoped>\n",
              "    .dataframe tbody tr th:only-of-type {\n",
              "        vertical-align: middle;\n",
              "    }\n",
              "\n",
              "    .dataframe tbody tr th {\n",
              "        vertical-align: top;\n",
              "    }\n",
              "\n",
              "    .dataframe thead th {\n",
              "        text-align: right;\n",
              "    }\n",
              "</style>\n",
              "<table border=\"1\" class=\"dataframe\">\n",
              "  <thead>\n",
              "    <tr style=\"text-align: right;\">\n",
              "      <th></th>\n",
              "      <th>country</th>\n",
              "      <th>year</th>\n",
              "      <th>poverty</th>\n",
              "    </tr>\n",
              "  </thead>\n",
              "  <tbody>\n",
              "    <tr>\n",
              "      <th>140</th>\n",
              "      <td>bra</td>\n",
              "      <td>1981</td>\n",
              "      <td>17.00</td>\n",
              "    </tr>\n",
              "    <tr>\n",
              "      <th>141</th>\n",
              "      <td>bra</td>\n",
              "      <td>1982</td>\n",
              "      <td>17.42</td>\n",
              "    </tr>\n",
              "    <tr>\n",
              "      <th>142</th>\n",
              "      <td>bra</td>\n",
              "      <td>1983</td>\n",
              "      <td>21.72</td>\n",
              "    </tr>\n",
              "    <tr>\n",
              "      <th>143</th>\n",
              "      <td>bra</td>\n",
              "      <td>1984</td>\n",
              "      <td>20.67</td>\n",
              "    </tr>\n",
              "    <tr>\n",
              "      <th>144</th>\n",
              "      <td>bra</td>\n",
              "      <td>1985</td>\n",
              "      <td>18.42</td>\n",
              "    </tr>\n",
              "  </tbody>\n",
              "</table>\n",
              "</div>"
            ],
            "text/plain": [
              "    country  year  poverty\n",
              "140     bra  1981    17.00\n",
              "141     bra  1982    17.42\n",
              "142     bra  1983    21.72\n",
              "143     bra  1984    20.67\n",
              "144     bra  1985    18.42"
            ]
          },
          "metadata": {},
          "execution_count": 214
        }
      ]
    },
    {
      "cell_type": "code",
      "metadata": {
        "colab": {
          "base_uri": "https://localhost:8080/",
          "height": 206
        },
        "id": "gMrrH5e_6N3W",
        "outputId": "d34323cf-7535-4ed7-c494-7f987a76e435"
      },
      "source": [
        "poverty_USA = poverty[ poverty.geo == 'usa' ]\n",
        "poverty_USA = poverty_USA.rename(columns={'geo':'country','time':'year', 'number_of_people_in_poverty': 'poverty'})\n",
        "poverty_USA.head()"
      ],
      "execution_count": 215,
      "outputs": [
        {
          "output_type": "execute_result",
          "data": {
            "text/html": [
              "<div>\n",
              "<style scoped>\n",
              "    .dataframe tbody tr th:only-of-type {\n",
              "        vertical-align: middle;\n",
              "    }\n",
              "\n",
              "    .dataframe tbody tr th {\n",
              "        vertical-align: top;\n",
              "    }\n",
              "\n",
              "    .dataframe thead th {\n",
              "        text-align: right;\n",
              "    }\n",
              "</style>\n",
              "<table border=\"1\" class=\"dataframe\">\n",
              "  <thead>\n",
              "    <tr style=\"text-align: right;\">\n",
              "      <th></th>\n",
              "      <th>country</th>\n",
              "      <th>year</th>\n",
              "      <th>poverty</th>\n",
              "    </tr>\n",
              "  </thead>\n",
              "  <tbody>\n",
              "    <tr>\n",
              "      <th>1054</th>\n",
              "      <td>usa</td>\n",
              "      <td>1986</td>\n",
              "      <td>1.633</td>\n",
              "    </tr>\n",
              "    <tr>\n",
              "      <th>1055</th>\n",
              "      <td>usa</td>\n",
              "      <td>1991</td>\n",
              "      <td>1.695</td>\n",
              "    </tr>\n",
              "    <tr>\n",
              "      <th>1056</th>\n",
              "      <td>usa</td>\n",
              "      <td>1994</td>\n",
              "      <td>1.763</td>\n",
              "    </tr>\n",
              "    <tr>\n",
              "      <th>1057</th>\n",
              "      <td>usa</td>\n",
              "      <td>1997</td>\n",
              "      <td>2.727</td>\n",
              "    </tr>\n",
              "    <tr>\n",
              "      <th>1058</th>\n",
              "      <td>usa</td>\n",
              "      <td>2000</td>\n",
              "      <td>1.890</td>\n",
              "    </tr>\n",
              "  </tbody>\n",
              "</table>\n",
              "</div>"
            ],
            "text/plain": [
              "     country  year  poverty\n",
              "1054     usa  1986    1.633\n",
              "1055     usa  1991    1.695\n",
              "1056     usa  1994    1.763\n",
              "1057     usa  1997    2.727\n",
              "1058     usa  2000    1.890"
            ]
          },
          "metadata": {},
          "execution_count": 215
        }
      ]
    },
    {
      "cell_type": "code",
      "metadata": {
        "colab": {
          "base_uri": "https://localhost:8080/",
          "height": 206
        },
        "id": "xo7PGgM0tcDv",
        "outputId": "f0bfb0ff-24f3-4ab2-ec9a-562bd15b344a"
      },
      "source": [
        "BR = pd.merge(child_BR,poverty_BR,on=['country','year'])\n",
        "BR.head()"
      ],
      "execution_count": 216,
      "outputs": [
        {
          "output_type": "execute_result",
          "data": {
            "text/html": [
              "<div>\n",
              "<style scoped>\n",
              "    .dataframe tbody tr th:only-of-type {\n",
              "        vertical-align: middle;\n",
              "    }\n",
              "\n",
              "    .dataframe tbody tr th {\n",
              "        vertical-align: top;\n",
              "    }\n",
              "\n",
              "    .dataframe thead th {\n",
              "        text-align: right;\n",
              "    }\n",
              "</style>\n",
              "<table border=\"1\" class=\"dataframe\">\n",
              "  <thead>\n",
              "    <tr style=\"text-align: right;\">\n",
              "      <th></th>\n",
              "      <th>country</th>\n",
              "      <th>year</th>\n",
              "      <th>death</th>\n",
              "      <th>poverty</th>\n",
              "    </tr>\n",
              "  </thead>\n",
              "  <tbody>\n",
              "    <tr>\n",
              "      <th>0</th>\n",
              "      <td>bra</td>\n",
              "      <td>1981</td>\n",
              "      <td>359500</td>\n",
              "      <td>17.00</td>\n",
              "    </tr>\n",
              "    <tr>\n",
              "      <th>1</th>\n",
              "      <td>bra</td>\n",
              "      <td>1982</td>\n",
              "      <td>345800</td>\n",
              "      <td>17.42</td>\n",
              "    </tr>\n",
              "    <tr>\n",
              "      <th>2</th>\n",
              "      <td>bra</td>\n",
              "      <td>1983</td>\n",
              "      <td>331000</td>\n",
              "      <td>21.72</td>\n",
              "    </tr>\n",
              "    <tr>\n",
              "      <th>3</th>\n",
              "      <td>bra</td>\n",
              "      <td>1984</td>\n",
              "      <td>315500</td>\n",
              "      <td>20.67</td>\n",
              "    </tr>\n",
              "    <tr>\n",
              "      <th>4</th>\n",
              "      <td>bra</td>\n",
              "      <td>1985</td>\n",
              "      <td>299300</td>\n",
              "      <td>18.42</td>\n",
              "    </tr>\n",
              "  </tbody>\n",
              "</table>\n",
              "</div>"
            ],
            "text/plain": [
              "  country  year   death  poverty\n",
              "0     bra  1981  359500    17.00\n",
              "1     bra  1982  345800    17.42\n",
              "2     bra  1983  331000    21.72\n",
              "3     bra  1984  315500    20.67\n",
              "4     bra  1985  299300    18.42"
            ]
          },
          "metadata": {},
          "execution_count": 216
        }
      ]
    },
    {
      "cell_type": "code",
      "metadata": {
        "colab": {
          "base_uri": "https://localhost:8080/",
          "height": 206
        },
        "id": "twnRaWD46Zky",
        "outputId": "fc3ca062-f27f-4a91-bf7b-04300fbb3c76"
      },
      "source": [
        "USA = pd.merge(child_USA,poverty_USA,on=['country','year'])\n",
        "USA.head()\n",
        "USA.tail()"
      ],
      "execution_count": 217,
      "outputs": [
        {
          "output_type": "execute_result",
          "data": {
            "text/html": [
              "<div>\n",
              "<style scoped>\n",
              "    .dataframe tbody tr th:only-of-type {\n",
              "        vertical-align: middle;\n",
              "    }\n",
              "\n",
              "    .dataframe tbody tr th {\n",
              "        vertical-align: top;\n",
              "    }\n",
              "\n",
              "    .dataframe thead th {\n",
              "        text-align: right;\n",
              "    }\n",
              "</style>\n",
              "<table border=\"1\" class=\"dataframe\">\n",
              "  <thead>\n",
              "    <tr style=\"text-align: right;\">\n",
              "      <th></th>\n",
              "      <th>country</th>\n",
              "      <th>year</th>\n",
              "      <th>death</th>\n",
              "      <th>poverty</th>\n",
              "    </tr>\n",
              "  </thead>\n",
              "  <tbody>\n",
              "    <tr>\n",
              "      <th>3</th>\n",
              "      <td>usa</td>\n",
              "      <td>1997</td>\n",
              "      <td>34290</td>\n",
              "      <td>2.727</td>\n",
              "    </tr>\n",
              "    <tr>\n",
              "      <th>4</th>\n",
              "      <td>usa</td>\n",
              "      <td>2000</td>\n",
              "      <td>31520</td>\n",
              "      <td>1.890</td>\n",
              "    </tr>\n",
              "    <tr>\n",
              "      <th>5</th>\n",
              "      <td>usa</td>\n",
              "      <td>2004</td>\n",
              "      <td>33570</td>\n",
              "      <td>2.928</td>\n",
              "    </tr>\n",
              "    <tr>\n",
              "      <th>6</th>\n",
              "      <td>usa</td>\n",
              "      <td>2007</td>\n",
              "      <td>32980</td>\n",
              "      <td>4.006</td>\n",
              "    </tr>\n",
              "    <tr>\n",
              "      <th>7</th>\n",
              "      <td>usa</td>\n",
              "      <td>2010</td>\n",
              "      <td>29940</td>\n",
              "      <td>5.166</td>\n",
              "    </tr>\n",
              "  </tbody>\n",
              "</table>\n",
              "</div>"
            ],
            "text/plain": [
              "  country  year  death  poverty\n",
              "3     usa  1997  34290    2.727\n",
              "4     usa  2000  31520    1.890\n",
              "5     usa  2004  33570    2.928\n",
              "6     usa  2007  32980    4.006\n",
              "7     usa  2010  29940    5.166"
            ]
          },
          "metadata": {},
          "execution_count": 217
        }
      ]
    },
    {
      "cell_type": "code",
      "metadata": {
        "id": "8sfFK1IFyDRP"
      },
      "source": [
        "import matplotlib.pyplot as plt\n",
        "import seaborn as sns\n",
        "%matplotlib inline"
      ],
      "execution_count": 218,
      "outputs": []
    },
    {
      "cell_type": "markdown",
      "metadata": {
        "id": "wyIzdPP51WtU"
      },
      "source": [
        "**Correlação entre Mortalidade Infantil e Pobreza no Brasil**\n",
        "\n",
        "---\n",
        "\n"
      ]
    },
    {
      "cell_type": "code",
      "metadata": {
        "colab": {
          "base_uri": "https://localhost:8080/",
          "height": 421
        },
        "id": "9eMQ3g6ByEcu",
        "outputId": "02a9ed9b-c063-44f9-b308-6969503ce11c"
      },
      "source": [
        "plt.figure(figsize=(12,6))\n",
        "\n",
        "sns.lineplot(x=BR.year, y=BR.death, label='Mortalidade Ifantil')\n",
        "sns.lineplot(x=BR.year, y=BR.poverty, label='Pobreza')\n",
        "\n",
        "plt.title('Brasil: Mortalidade Infantil X Pobreza', fontsize=14)\n",
        "plt.legend()\n",
        "plt.xticks(rotation=90)\n",
        "plt.show()"
      ],
      "execution_count": 219,
      "outputs": [
        {
          "output_type": "display_data",
          "data": {
            "image/png": "[encoded data removed]",
            "text/plain": [
              "<Figure size 864x432 with 1 Axes>"
            ]
          },
          "metadata": {
            "needs_background": "light"
          }
        }
      ]
    },
    {
      "cell_type": "code",
      "metadata": {
        "colab": {
          "base_uri": "https://localhost:8080/",
          "height": 421
        },
        "id": "z9GyhDU_9e9B",
        "outputId": "4022bdb7-cadd-4a7c-bb12-b280797b41f2"
      },
      "source": [
        "import numpy as np \n",
        "plt.figure(figsize=(12,6))\n",
        "\n",
        "sns.lineplot(x=BR.year, y=np.log( BR.death ), label='Mortalidade Ifantil')\n",
        "sns.lineplot(x=BR.year, y=np.log( BR.poverty ), label='Pobreza')\n",
        "\n",
        "plt.title('Brasil: Mortalidade Infantil X Pobreza', fontsize=14)\n",
        "plt.legend()\n",
        "plt.xticks(rotation=90)\n",
        "plt.show()"
      ],
      "execution_count": 220,
      "outputs": [
        {
          "output_type": "display_data",
          "data": {
            "image/png": "[encoded data removed]",
            "text/plain": [
              "<Figure size 864x432 with 1 Axes>"
            ]
          },
          "metadata": {
            "needs_background": "light"
          }
        }
      ]
    },
    {
      "cell_type": "markdown",
      "metadata": {
        "id": "lg7Z7Keo-JG4"
      },
      "source": [
        "Analisando os gráficos acima, é possível observar que a pobreza e a mortalidade infantil no Brasil apresentam uma ligeira queda ao longo dos anos."
      ]
    },
    {
      "cell_type": "markdown",
      "metadata": {
        "id": "tPIMlVQf1evM"
      },
      "source": [
        "**Correlação da Mortalidade Infantil entre Brasil e Estados Unidos**"
      ]
    },
    {
      "cell_type": "code",
      "metadata": {
        "colab": {
          "base_uri": "https://localhost:8080/",
          "height": 420
        },
        "id": "8zb49mEb2GXE",
        "outputId": "288e4891-fdf3-4df5-9fed-0155a9926a0a"
      },
      "source": [
        "plt.figure(figsize=(12,6))\n",
        "\n",
        "sns.lineplot(x=child_BR.year, y=child_BR.death, label='Brasil')\n",
        "sns.lineplot(x=child_USA.year, y=child_USA.death, label='EUA')\n",
        "\n",
        "plt.title('Mortalidade Infantil: Brasil X EUA', fontsize=14)\n",
        "plt.legend()\n",
        "plt.xticks(rotation=90)\n",
        "plt.show()"
      ],
      "execution_count": 221,
      "outputs": [
        {
          "output_type": "display_data",
          "data": {
            "image/png": "[encoded data removed]",
            "text/plain": [
              "<Figure size 864x432 with 1 Axes>"
            ]
          },
          "metadata": {
            "needs_background": "light"
          }
        }
      ]
    },
    {
      "cell_type": "markdown",
      "metadata": {
        "id": "8zCmmKGd5Rgt"
      },
      "source": [
        "É possível observar no gráfico que ambos países tiveram um pico de mortalidade seguido de queda, porém nos EUA tanto o pico quanto a queda ocorreram com cerca de 50 anos de diferença, sendo os EUA mais rápidos na resolução do problema."
      ]
    },
    {
      "cell_type": "markdown",
      "metadata": {
        "id": "V5H99ISN6hau"
      },
      "source": [
        "**Correlação entre Mortalidade Infantil e Pobreza nos Estados Unidos**\n"
      ]
    },
    {
      "cell_type": "code",
      "metadata": {
        "colab": {
          "base_uri": "https://localhost:8080/",
          "height": 421
        },
        "id": "tfGQ8Kh96lu0",
        "outputId": "07f2dca5-cde1-408d-c00d-a12c67bc6ae8"
      },
      "source": [
        "plt.figure(figsize=(12,6))\n",
        "\n",
        "sns.lineplot(x=USA.year, y=USA.death, label='USA')\n",
        "sns.lineplot(x=USA.year, y=USA.poverty, label='Pobreza')\n",
        "\n",
        "plt.title('Estados Unidos: Mortalidade Infantil X Pobreza', fontsize=14)\n",
        "plt.legend()\n",
        "plt.xticks(rotation=90)\n",
        "plt.show()"
      ],
      "execution_count": 222,
      "outputs": [
        {
          "output_type": "display_data",
          "data": {
            "image/png": "[encoded data removed]",
            "text/plain": [
              "<Figure size 864x432 with 1 Axes>"
            ]
          },
          "metadata": {
            "needs_background": "light"
          }
        }
      ]
    },
    {
      "cell_type": "code",
      "metadata": {
        "colab": {
          "base_uri": "https://localhost:8080/",
          "height": 420
        },
        "id": "ThS8BYec9_Mj",
        "outputId": "00340d0b-d689-48a9-ac6c-00ca946ca866"
      },
      "source": [
        "import numpy as np \n",
        "plt.figure(figsize=(12,6))\n",
        "\n",
        "sns.lineplot(x=BR.year, y=np.log( USA.death ), label='Mortalidade Ifantil')\n",
        "sns.lineplot(x=BR.year, y=np.log( USA.poverty ), label='Pobreza')\n",
        "\n",
        "plt.title('Estados Unidos: Mortalidade Infantil X Pobreza', fontsize=14)\n",
        "plt.legend()\n",
        "plt.xticks(rotation=90)\n",
        "plt.show()"
      ],
      "execution_count": 224,
      "outputs": [
        {
          "output_type": "display_data",
          "data": {
            "image/png": "[encoded data removed]",
            "text/plain": [
              "<Figure size 864x432 with 1 Axes>"
            ]
          },
          "metadata": {
            "needs_background": "light"
          }
        }
      ]
    },
    {
      "cell_type": "markdown",
      "metadata": {
        "id": "s5uOwzkC-ZRl"
      },
      "source": [
        "De acordo com os gráficos acima, é possível observar que nos Estaods Unidosa nortalidade infantil apresenta ligeira queda, enquanto o nível de pobreza tem apresentado ligeira ascensão."
      ]
    },
    {
      "cell_type": "markdown",
      "metadata": {
        "id": "U0I29LmT7nfy"
      },
      "source": [
        "**Mortalidade Infantil: Brasil, Estados Unidos e Índia**"
      ]
    },
    {
      "cell_type": "code",
      "metadata": {
        "colab": {
          "base_uri": "https://localhost:8080/",
          "height": 420
        },
        "id": "oALsUfqJ7uDP",
        "outputId": "ff592fd0-981c-4c8b-efd9-e2100a9a5c1f"
      },
      "source": [
        "plt.figure(figsize=(12,6))\n",
        "\n",
        "sns.lineplot(x=child_BR.year, y=child_BR.death, label='Brasil')\n",
        "sns.lineplot(x=child_USA.year, y=child_USA.death, label='EUA')\n",
        "sns.lineplot(x=child_IND.year, y=child_IND.death, label='Índia')\n",
        "\n",
        "plt.title('Mortalidade Infantil: Brasil X EUA X Índia', fontsize=14)\n",
        "plt.legend()\n",
        "plt.xticks(rotation=90)\n",
        "plt.show()"
      ],
      "execution_count": 223,
      "outputs": [
        {
          "output_type": "display_data",
          "data": {
            "image/png": "[encoded data removed]",
            "text/plain": [
              "<Figure size 864x432 with 1 Axes>"
            ]
          },
          "metadata": {
            "needs_background": "light"
          }
        }
      ]
    },
    {
      "cell_type": "markdown",
      "metadata": {
        "id": "ymAyAkbs76c-"
      },
      "source": [
        "Neste gráfico é possível perceber que a mortalidade infantil na Índia, apesar de estar em queda, é muito maior do que no Brasil e nos EUA ao longo dos anos."
      ]
    }
  ]
}